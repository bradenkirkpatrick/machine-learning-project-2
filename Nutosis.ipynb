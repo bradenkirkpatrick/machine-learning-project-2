{
 "cells": [
  {
   "cell_type": "code",
   "execution_count": 1,
   "metadata": {},
   "outputs": [
    {
     "name": "stderr",
     "output_type": "stream",
     "text": [
      "/var/folders/gy/3h3chr9d34xfxb9qbx03m8ww0000gp/T/ipykernel_95811/2329385334.py:4: DeprecationWarning: \n",
      "Pyarrow will become a required dependency of pandas in the next major release of pandas (pandas 3.0),\n",
      "(to allow more performant data types, such as the Arrow string type, and better interoperability with other libraries)\n",
      "but was not found to be installed on your system.\n",
      "If this would cause problems for you,\n",
      "please provide us feedback at https://github.com/pandas-dev/pandas/issues/54466\n",
      "        \n",
      "  import pandas as pd\n"
     ]
    }
   ],
   "source": [
    "# All of your imports here (you may need to add some)\n",
    "import numpy\n",
    "import scipy\n",
    "import pandas as pd\n",
    "from pandas import read_csv\n",
    "import matplotlib.pylab as plt\n",
    "import seaborn as sns\n",
    "from sklearn.base import BaseEstimator, TransformerMixin\n",
    "from sklearn.impute import SimpleImputer\n",
    "from sklearn.pipeline import Pipeline\n",
    "from sklearn.compose import ColumnTransformer\n",
    "from sklearn.preprocessing import OneHotEncoder, FunctionTransformer, StandardScaler, MinMaxScaler\n",
    "from sklearn.model_selection import train_test_split\n",
    "from sklearn.ensemble import RandomForestClassifier\n",
    "from sklearn.model_selection import cross_val_score, cross_val_predict\n",
    "from sklearn.metrics import accuracy_score, precision_score, recall_score, f1_score\n",
    "from sklearn.metrics import confusion_matrix\n",
    "from sklearn.metrics import precision_recall_curve, roc_curve, roc_auc_score\n",
    "\n",
    "from sklearn import set_config\n",
    "set_config(transform_output = \"pandas\")"
   ]
  },
  {
   "cell_type": "markdown",
   "metadata": {},
   "source": [
    "# Project 2\n",
    "\n",
    "It is October 2018. The squirrels in Central Park are running into a problem and we need your help.\n",
    "\n",
    "For this project you must go through most steps in the checklist. You must write responses for all items however sometimes the item will simply be \"does not apply\". Some of the parts are a bit more nebulous and you simply show that you have done things in general (and the order doesn't really matter). Keep your progress and thoughts organized in this document and use formatting as appropriate (using markdown to add headers and sub-headers for each major part). Do not do the final part (launching the product) and your presentation will be done as information written in this document in a dedicated section, no slides or anything like that. It should however include the best summary plots/graphics/data points.\n",
    "\n",
    "You are intentionally given very little information thus far. You must communicate with your client (me) for additional information as necessary. But also make sure that your communications are efficient, thought out, and not redundant as your client might get frustrated and \"fire\" you (this only applies to getting information from your client, this does not necessary apply to asking for help with the actual project itself - you should continuously ask questions for getting help).\n",
    "\n",
    "You must submit all data files and a pickled preprocessor and final model along with this notebook."
   ]
  },
  {
   "cell_type": "markdown",
   "metadata": {},
   "source": [
    "Frame the Problem and Look at the Big Picture\n",
    "=====================================\n",
    "1. **Define the objective in business terms:** \n",
    "2. **How will your solution be used?** \n",
    "3. **How should you frame this problem?** \n",
    "4. **How should performance be measured? Is the performance measure aligned with the business objective?** \n",
    "5. **What would be the minimum performance needed to reach the business objective?** \n",
    "6. **What are comparable problems? Can you reuse (personal or readily available) experience or tools?** \n",
    "7. **Is human expertise available?** \n",
    "8. **How would you solve the problem manually?** \n",
    "9. **List the assumptions you (or others) have made so far. Verify assumptions if possible.** "
   ]
  },
  {
   "cell_type": "markdown",
   "metadata": {},
   "source": [
    "# Get the Data\n",
    "\n",
    "1. **List the data you need and how much you need:**\n",
    "\n",
    "2. **Find and document where you can get that data:**\n",
    "\n",
    "3. **Get access authorizations**: None needed, publicy available.\n",
    "\n",
    "4. **Create a workspace**: This notebook.\n",
    "5. **Get the data**: \n",
    "6. **Convert the data to a format you can easily manipulate**: Done, it's a CSV\n",
    "7. **Ensure sensitive information is deleted or protected**: Done\n",
    "8. **Check the size and type of data (time series, geographical, …)**:\n",
    "\n",
    "Do not look at the data too closely at this point since you have not yet split off the testing set. Basically, enough looking at it to understand *how* to split the test set off. It is likely you will have to review the website where the data came from to be able to understand some of the features."
   ]
  },
  {
   "cell_type": "code",
   "execution_count": 2,
   "metadata": {},
   "outputs": [],
   "source": [
    "all_squirrels = read_csv('2018_Central_Park_Squirrel_Census_-_Squirrel_Data_20241101.csv')\n",
    "dead_squirrels = read_csv('diseased_squirrels.csv')"
   ]
  },
  {
   "cell_type": "code",
   "execution_count": 3,
   "metadata": {},
   "outputs": [
    {
     "name": "stdout",
     "output_type": "stream",
     "text": [
      "             X          Y Unique Squirrel ID Hectare Shift      Date  \\\n",
      "0   -73.967063  40.773499     12I-AM-1013-01     12I    AM  10132018   \n",
      "1   -73.957956  40.795934     38C-PM-1014-09     38C    PM  10142018   \n",
      "2   -73.970408  40.769028      6I-PM-1013-06     06I    PM  10132018   \n",
      "3   -73.968381  40.778014     16E-PM-1018-06     16E    PM  10182018   \n",
      "4   -73.969424  40.775590     13F-AM-1007-02     13F    AM  10072018   \n",
      "..         ...        ...                ...     ...   ...       ...   \n",
      "317 -73.972408  40.774416     11D-AM-1010-08     11D    AM  10102018   \n",
      "318 -73.975653  40.773354      8B-PM-1012-07     08B    PM  10122018   \n",
      "319 -73.967883  40.784761     23B-PM-1012-06     23B    PM  10122018   \n",
      "320 -73.964544  40.781160     21F-PM-1018-02     21F    PM  10182018   \n",
      "321 -73.975479  40.769640      5E-PM-1012-01     05E    PM  10122018   \n",
      "\n",
      "     Hectare Squirrel Number       Age Primary Fur Color Highlight Fur Color  \\\n",
      "0                          1     Adult          Cinnamon               White   \n",
      "1                          9     Adult             Black                 NaN   \n",
      "2                          6     Adult              Gray            Cinnamon   \n",
      "3                          6     Adult          Cinnamon                Gray   \n",
      "4                          2     Adult          Cinnamon               White   \n",
      "..                       ...       ...               ...                 ...   \n",
      "317                        8     Adult          Cinnamon         Gray, White   \n",
      "318                        7     Adult          Cinnamon         Gray, White   \n",
      "319                        6     Adult              Gray                 NaN   \n",
      "320                        2  Juvenile          Cinnamon                Gray   \n",
      "321                        1     Adult          Cinnamon         Gray, White   \n",
      "\n",
      "     ...   Kuks  Quaas  Moans Tail flags Tail twitches  Approaches  \\\n",
      "0    ...  False  False  False      False          True       False   \n",
      "1    ...  False  False  False      False         False        True   \n",
      "2    ...  False  False  False      False          True       False   \n",
      "3    ...  False  False  False      False          True       False   \n",
      "4    ...  False  False  False      False         False       False   \n",
      "..   ...    ...    ...    ...        ...           ...         ...   \n",
      "317  ...  False  False  False      False         False        True   \n",
      "318  ...  False  False  False      False         False       False   \n",
      "319  ...   True  False  False      False         False       False   \n",
      "320  ...  False  False  False      False         False       False   \n",
      "321  ...  False  False  False      False         False        True   \n",
      "\n",
      "     Indifferent  Runs from  Other Interactions  \\\n",
      "0          False       True                 NaN   \n",
      "1          False      False                 NaN   \n",
      "2          False      False                 NaN   \n",
      "3           True      False                 NaN   \n",
      "4           True      False                 NaN   \n",
      "..           ...        ...                 ...   \n",
      "317        False      False                 NaN   \n",
      "318         True      False                 NaN   \n",
      "319        False      False            scolding   \n",
      "320        False       True                 NaN   \n",
      "321        False      False                 NaN   \n",
      "\n",
      "                                        Lat/Long  \n",
      "0    POINT (-73.9670628558161 40.77349914209411)  \n",
      "1     POINT (-73.9579564338627 40.7959337795027)  \n",
      "2     POINT (-73.9704082821356 40.7690280985956)  \n",
      "3      POINT (-73.968381325559 40.7780143443779)  \n",
      "4    POINT (-73.96942403275091 40.7755898126674)  \n",
      "..                                           ...  \n",
      "317   POINT (-73.9724083320538 40.7744163768061)  \n",
      "318   POINT (-73.9756533763813 40.7733537881363)  \n",
      "319   POINT (-73.9678831312936 40.7847605974975)  \n",
      "320   POINT (-73.9645437409662 40.7811599933331)  \n",
      "321   POINT (-73.9754794191553 40.7696404489025)  \n",
      "\n",
      "[322 rows x 31 columns]\n"
     ]
    }
   ],
   "source": [
    "dead_copy = dead_squirrels.copy()\n",
    "all_copy = all_squirrels.copy()\n",
    "dead_squirrels_data = all_copy.merge(dead_copy, how='inner', on='Unique Squirrel ID')\n",
    "print(dead_squirrels_data)"
   ]
  }
 ],
 "metadata": {
  "kernelspec": {
   "display_name": "Python 3",
   "language": "python",
   "name": "python3"
  },
  "language_info": {
   "codemirror_mode": {
    "name": "ipython",
    "version": 3
   },
   "file_extension": ".py",
   "mimetype": "text/x-python",
   "name": "python",
   "nbconvert_exporter": "python",
   "pygments_lexer": "ipython3",
   "version": "3.9.6"
  }
 },
 "nbformat": 4,
 "nbformat_minor": 2
}
